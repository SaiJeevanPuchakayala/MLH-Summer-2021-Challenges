{
 "cells": [
  {
   "cell_type": "markdown",
   "metadata": {},
   "source": [
    "### 3. Challenge Poems Part 1: Find a Verb"
   ]
  },
  {
   "cell_type": "markdown",
   "metadata": {},
   "source": [
    "A literature scholar asks you to write Python code to analyze a set of poems.  To start, the scholar wants you to find out if the verb \"to see\" appears anywhere in the text.  Your program should return the value True or the value False based on whether or not the verb was found.\n",
    "\n",
    "Assume that you have a variable called see_tenses containing a list of all the tenses of \"to see\" which you should check for.  If the poem contains any of the words inside the see_tenses list regardless of capitalization, your function should return True.  Otherwise, your function should return False.\n",
    "\n",
    "\n",
    "Note! Your function must be named checker_function"
   ]
  },
  {
   "cell_type": "code",
   "execution_count": null,
   "metadata": {},
   "outputs": [],
   "source": [
    "def checker_function(poem_text):\n",
    "    # leave this line in the code\n",
    "    see_tenses = ['saw', 'see', 'sees', 'seeing', 'seen']\n",
    "\n",
    "    # your code goes here"
   ]
  },
  {
   "cell_type": "code",
   "execution_count": 88,
   "metadata": {},
   "outputs": [
    {
     "data": {
      "text/plain": [
       "True"
      ]
     },
     "execution_count": 88,
     "metadata": {},
     "output_type": "execute_result"
    }
   ],
   "source": [
    "def checker_function(poem_text,k=0):\n",
    "    # leave this line in the code\n",
    "    see_tenses = ['saw', 'see', 'sees', 'seeing', 'seen']\n",
    "\n",
    "    symbols = [';', '!','\"',\"\\n\",\"—\",\"'\",\",\"]\n",
    "    y = poem_text.lower()\n",
    "    y = ''.join(i for i in y if not i in symbols)\n",
    "    poem = y.split()\n",
    "    for i in range(len(see_tenses)):\n",
    "        for j in range(len(poem)):\n",
    "            if see_tenses[i]==poem[j]:\n",
    "                k = 1           \n",
    "    if k == 1:\n",
    "        return True\n",
    "    else:\n",
    "        return False\n",
    "\n",
    "poem_text = \"\"\" \"Surely,\" said I, \"surely that is something at my window lattice;\\n Let me see, then, what thereat is, and this mystery explore—\\n Let my heart be still a moment and this mystery explore;—\\n 'Tis the wind and nothing more!\" \"\"\" \n",
    "checker_function(poem_text)"
   ]
  }
 ],
 "metadata": {
  "kernelspec": {
   "display_name": "Python 3",
   "language": "python",
   "name": "python3"
  },
  "language_info": {
   "codemirror_mode": {
    "name": "ipython",
    "version": 3
   },
   "file_extension": ".py",
   "mimetype": "text/x-python",
   "name": "python",
   "nbconvert_exporter": "python",
   "pygments_lexer": "ipython3",
   "version": "3.8.5"
  }
 },
 "nbformat": 4,
 "nbformat_minor": 4
}
