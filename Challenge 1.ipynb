{
 "cells": [
  {
   "cell_type": "markdown",
   "metadata": {},
   "source": [
    "### 1. Challenge: Access an API with Python\tMLH 2021Q1"
   ]
  },
  {
   "cell_type": "markdown",
   "metadata": {},
   "source": [
    "This problem is about accessing API endpoints. \n",
    "\n",
    "Stackmaps has an API endpoint you will access for this problem.  The address is:\n",
    "\n",
    "https://www.stackmaps.com/api/ping\n",
    "Please write a function called ping which uses the Python requests library to access the Stackmaps API endpoint given above.  Because you will be making a GET request, you will need to use the get() method from the requests library.  Your function should take in a single parameter.  If that parameter is an integer or a float, your function should pass it to the API endpoint using the parameter name x_value and return the value returned by the API.\n",
    "\n",
    "If your function is given a parameter which is not an integer and not a float, your function should return None.\n",
    "\n",
    "Please assume that the following import statement has already been made:\n",
    "\n",
    "from requests import get\n",
    "Do not add any additional import statements to your code.\n",
    "\n",
    "\n",
    "Spend five minutes skimming the documentation about the Python requests library.  You can access that documentation here:\n",
    "\n",
    "https://requests.readthedocs.io/en/master/\n",
    "\n",
    "and you can read about the get() method here:\n",
    "\n",
    "https://requests.readthedocs.io/en/master/api/#requests.get\n",
    "\n",
    "Note! Your function must be named ping"
   ]
  },
  {
   "cell_type": "code",
   "execution_count": 44,
   "metadata": {},
   "outputs": [
    {
     "name": "stdout",
     "output_type": "stream",
     "text": [
      "{'message': 'Pong!', 'result_value': 64}\n"
     ]
    },
    {
     "data": {
      "text/plain": [
       "64"
      ]
     },
     "execution_count": 44,
     "metadata": {},
     "output_type": "execute_result"
    }
   ],
   "source": [
    "# Do not add any import statements\n",
    "from requests import get\n",
    "def ping(x_value):\n",
    "    url = \"https://www.stackmaps.com/api/ping/?x_value=\"+str(x_value)\n",
    "    r = get(url)\n",
    "    x = r.json()\n",
    "    print(x)\n",
    "    return x.get(\"result_value\")\n",
    "ping(\"2\")"
   ]
  }
 ],
 "metadata": {
  "kernelspec": {
   "display_name": "Python 3",
   "language": "python",
   "name": "python3"
  },
  "language_info": {
   "codemirror_mode": {
    "name": "ipython",
    "version": 3
   },
   "file_extension": ".py",
   "mimetype": "text/x-python",
   "name": "python",
   "nbconvert_exporter": "python",
   "pygments_lexer": "ipython3",
   "version": "3.8.5"
  }
 },
 "nbformat": 4,
 "nbformat_minor": 4
}
