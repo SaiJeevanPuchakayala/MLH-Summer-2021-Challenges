{
 "cells": [
  {
   "cell_type": "markdown",
   "metadata": {},
   "source": [
    "### 4. Challenge: Poems Part 2: Find Certain Verbs"
   ]
  },
  {
   "cell_type": "markdown",
   "metadata": {},
   "source": [
    "You decide to figure out how to count all of the verbs in a particular literary passage.  In real life, you would most likely use a Python library to assist with this task (go read about NLTK if you want to learn more).  In this exercise, you will be provided with a list of verbs on which to base your search.\n",
    "\n",
    "You need to write a function that takes a Python string as input and returns a list of the verbs found inside that string.  Your function only needs to include a verb in the returned list if that verb is also found inside the list named major_verbs.  Leave the definition of major_verbs at the very beginning of your function, as shown in the code below.  Do not change the major_verbs list.  If you change that list, your code will not pass the autograder and will not receive a grade.\n",
    "\n",
    "The list your function returns should be sorted in alphabetical order and should contain strings in all lowercase.  If you find a particular verb more than once, your list should only include it once (that is, your list should not contain duplicates).\n",
    "\n",
    "\n",
    "Note! Your function must be named find_verbs"
   ]
  },
  {
   "cell_type": "code",
   "execution_count": null,
   "metadata": {},
   "outputs": [],
   "source": [
    "def find_verbs(passage):\n",
    "    # leave line 3 as is. These are the verbs to look for in the passage.\n",
    "    major_verbs = ['see', 'seeing', 'saw', 'notice', 'noticed', 'noticing', 'ignore', 'ignored', 'ignoring', 'ran', 'run', 'runs', 'running', 'think', 'thinks', 'thought', 'thinking', 'eat', 'ate', 'eats', 'eating', 'be', 'is', 'was', 'were', 'are', 'being']\n",
    "    \n",
    "    # write your code below this line"
   ]
  },
  {
   "cell_type": "code",
   "execution_count": 32,
   "metadata": {},
   "outputs": [
    {
     "data": {
      "text/plain": [
       "['ignore', 'noticed', 'running', 'seeing', 'was']"
      ]
     },
     "execution_count": 32,
     "metadata": {},
     "output_type": "execute_result"
    }
   ],
   "source": [
    "def find_verbs(passage):\n",
    "    # leave line 3 as is. These are the verbs to look for in the passage.\n",
    "    major_verbs = ['see', 'seeing', 'saw', 'notice', 'noticed', 'noticing', 'ignore', 'ignored', 'ignoring', 'ran', 'run', 'runs', 'running', 'think', 'thinks', 'thought', 'thinking', 'eat', 'ate', 'eats', 'eating', 'be', 'is', 'was', 'were', 'are', 'being']\n",
    "   \n",
    "    verbs = []\n",
    "    symbols = [';', '!','\"',\"\\n\",\"—\",\"'\",\",\"]\n",
    "    y = passage.lower()\n",
    "    y = ''.join(i for i in y if not i in symbols)\n",
    "    poem = y.split()\n",
    "    for i in range(len(major_verbs)):\n",
    "        for j in range(len(poem)):\n",
    "            if major_verbs[i]==poem[j]:\n",
    "                verbs.append(poem[j])\n",
    "    x = list(set(verbs))\n",
    "    x.sort()\n",
    "    return x\n",
    "\n",
    "passage = \"Seeing as it was getting late, the gorilla decided to ignore the zookeeper and proceed with her escape plan. Running along the side of the fence, she noticed a hole and slipped through.\"\n",
    "find_verbs(passage)"
   ]
  }
 ],
 "metadata": {
  "kernelspec": {
   "display_name": "Python 3",
   "language": "python",
   "name": "python3"
  },
  "language_info": {
   "codemirror_mode": {
    "name": "ipython",
    "version": 3
   },
   "file_extension": ".py",
   "mimetype": "text/x-python",
   "name": "python",
   "nbconvert_exporter": "python",
   "pygments_lexer": "ipython3",
   "version": "3.8.5"
  }
 },
 "nbformat": 4,
 "nbformat_minor": 4
}
