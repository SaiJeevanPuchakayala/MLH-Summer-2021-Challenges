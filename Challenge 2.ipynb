{
 "cells": [
  {
   "cell_type": "markdown",
   "metadata": {},
   "source": [
    "### 2. Challenge: Get poet names from an API\tMLH 2021Q2"
   ]
  },
  {
   "cell_type": "markdown",
   "metadata": {},
   "source": [
    "Stackmaps has an API containing example data for learning about APIs.\n",
    "\n",
    "The following API endpoint contains data about U.S. poets laureate.  A poet laureate is a professional poet appointed by the government to write poems for the benefit of society. \n",
    "\n",
    "https://www.stackmaps.com/api/examples/poets/\n",
    "\n",
    "\n",
    "Write a function which retrieves all of the data available from this endpoint. \n",
    "\n",
    "Note! Your function must be named get_poet_names"
   ]
  },
  {
   "cell_type": "code",
   "execution_count": 14,
   "metadata": {
    "scrolled": true
   },
   "outputs": [
    {
     "name": "stdout",
     "output_type": "stream",
     "text": [
      "{'data': [{'2015': 'Juan Felipe Herrera', '2017': 'Tracy K. Smith', '2019': 'Joy Harjo'}]}\n"
     ]
    }
   ],
   "source": [
    "#correct code\n",
    "from requests import get\n",
    "\n",
    "url = \"https://www.stackmaps.com/api/examples/poets/\"\n",
    "headers = {\"Accept\": \"application/json\", \"Cookie\": \"sessionid=r6e08vu811f9dsz9c8c5mhn6f56q4d6v; csrftoken=7mKacKuQUBp9gaoFlu7mo9pvIpP3yNMf3t6Ycev8kRyjCNmyEf1lakfVXvGKcsgd\"}\n",
    "r = get(url, headers=headers)\n",
    "print(r.json())\n"
   ]
  },
  {
   "cell_type": "code",
   "execution_count": null,
   "metadata": {},
   "outputs": [],
   "source": [
    "#correct code\n",
    "\n",
    "url = \"https://www.stackmaps.com/api/login/?next=/api/examples/poets/\"\n",
    "auth = HTTPBasicAuth('MK5XR6', 'mlhfellow')\n",
    "data={\"csrfmiddlewaretoken\": \"wWCUO3b0Mq5I4jnlPzplrvvsi4Shkxf27cDegsxbROVzvOeJiCef9PFVmvw4jEJF\",\n",
    "\"next\": \"/api/examples/poets/\",\n",
    "\"username\": \"MK5XR6\",\n",
    "\"password\": \"mlhfellow\",\n",
    "\"submit\": \"Log in\"}\n",
    "r = requests.post(url, data=data)\n",
    "\n",
    "print(r.text)"
   ]
  }
 ],
 "metadata": {
  "kernelspec": {
   "display_name": "Python 3",
   "language": "python",
   "name": "python3"
  },
  "language_info": {
   "codemirror_mode": {
    "name": "ipython",
    "version": 3
   },
   "file_extension": ".py",
   "mimetype": "text/x-python",
   "name": "python",
   "nbconvert_exporter": "python",
   "pygments_lexer": "ipython3",
   "version": "3.8.5"
  }
 },
 "nbformat": 4,
 "nbformat_minor": 4
}
